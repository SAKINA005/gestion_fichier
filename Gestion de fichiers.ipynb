{
 "cells": [
  {
   "cell_type": "code",
   "execution_count": 19,
   "metadata": {},
   "outputs": [],
   "source": [
    "#Écrivez un programme Python pour lire un fichier texte entier.\n",
    "\n",
    "f=open(\"test.txt\",'r',encoding='utf-8')\n",
    "f.readlines()\n",
    "\n",
    "#Écrivez un programme Python pour lire les n premières lignes d'un fichier.\n",
    "f=open(\"test.txt\",'r',encoding='utf-8')\n",
    "f.readline(5)\n",
    "# un programme Python pour lire les n dernières lignes d'un fichier\n",
    "#f=open(\"test.txt\",'r',encoding='utf-8')\n",
    "#f.readline()[-5:]\n",
    "\n",
    "#Écrivez un programme Python qui prend un fichier texte en entrée et renvoie le nombre de mots de ce fichier texte.\n",
    "def compter_mots(test):\n",
    "    with open(\"test.txt\",'r',encoding='utf-8') as f:\n",
    "        texte=f.read()\n",
    "        mots=texte.split\n",
    "        nbre_mots=len(mots)\n",
    "        return nbre_mots\n",
    "        print(f\"le nombre de mots est {nbre_mots}\")\n"
   ]
  }
 ],
 "metadata": {
  "kernelspec": {
   "display_name": "Python 3",
   "language": "python",
   "name": "python3"
  },
  "language_info": {
   "codemirror_mode": {
    "name": "ipython",
    "version": 3
   },
   "file_extension": ".py",
   "mimetype": "text/x-python",
   "name": "python",
   "nbconvert_exporter": "python",
   "pygments_lexer": "ipython3",
   "version": "3.11.9"
  }
 },
 "nbformat": 4,
 "nbformat_minor": 2
}
